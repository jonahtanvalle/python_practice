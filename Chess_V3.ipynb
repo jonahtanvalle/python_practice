{
 "cells": [
  {
   "cell_type": "code",
   "execution_count": 1,
   "metadata": {},
   "outputs": [],
   "source": [
    "import numpy as np\n",
    "Forward_Backward = [(1,0),(0,1),(-1,0),(0,-1)]\n",
    "Diagonals = [(1,1),(-1,1),(1,-1),(-1,-1)]\n",
    "\n",
    "class Piece:\n",
    "    \n",
    "    def __init__(self, x, y):\n",
    "        self.x = None\n",
    "        self.y = None\n",
    "    \n",
    "    def Check(x,y):\n",
    "        if x >= 0 and x < 8 and y >= 0 and y < 8:\n",
    "            return True\n",
    "        return False\n",
    "    \n",
    "    def Move(self,x,y,directions):\n",
    "        Position =[]\n",
    "        for x_dir,y_dir in directions:\n",
    "            x_aux, y_aux = x + x_dir, y + y_dir\n",
    "            while self.Check(x_aux,y_aux):\n",
    "                Position.append((x_aux,y_aux))\n",
    "                x_aux, y_aux = x_aux + x_dir, y_aux + y_dir\n",
    "        return Position\n",
    "    \n",
    "    def Draw(x,y,Position):\n",
    "        Board = np.zeros((8, 8))\n",
    "        Board[x][y] = 8\n",
    "        for pos in Position:\n",
    "                a=pos[0]\n",
    "                b=pos[1]\n",
    "                Board[a][b]=1\n",
    "        return Board"
   ]
  },
  {
   "cell_type": "code",
   "execution_count": 2,
   "metadata": {},
   "outputs": [],
   "source": [
    "class Tower(Piece):\n",
    "    def Positions(self,x,y):\n",
    "        Position = self.Move(self,x, y, Forward_Backward)\n",
    "        return self.Draw(x,y,Position)"
   ]
  },
  {
   "cell_type": "code",
   "execution_count": 3,
   "metadata": {},
   "outputs": [],
   "source": [
    "class Bishop(Piece):\n",
    "    def Positions(self,x,y):\n",
    "        Position = self.Move(self,x, y, Diagonals)\n",
    "        return self.Draw(x,y,Position)"
   ]
  },
  {
   "cell_type": "code",
   "execution_count": 4,
   "metadata": {},
   "outputs": [],
   "source": [
    "class Queen(Piece):\n",
    "    def Positions(self,x,y):\n",
    "        Position = self.Move(self,x, y, Forward_Backward+Diagonals)\n",
    "        return self.Draw(x,y,Position)"
   ]
  },
  {
   "cell_type": "code",
   "execution_count": 5,
   "metadata": {},
   "outputs": [],
   "source": [
    "class King(Piece):\n",
    "    def Positions(self,x,y):\n",
    "        King_Pos = [(x+1,y),(x+1,y+1),(x+1,y-1),(x,y+1),(x,y-1),(x-1,y),(x-1,y+1),(x-1,y-1)]\n",
    "        Position = []\n",
    "        for p,q in King_Pos:\n",
    "            if self.Check(p,q):\n",
    "                Position.append((p,q))\n",
    "        return self.Draw(x,y,Position)"
   ]
  },
  {
   "cell_type": "code",
   "execution_count": 6,
   "metadata": {},
   "outputs": [],
   "source": [
    "class Horse(Piece):\n",
    "    def Positions(self,x,y):\n",
    "        cd1=1\n",
    "        cd2=2\n",
    "        Horse_Pos = [(x+cd1,y+cd2),(x-cd1,y+cd2),(x+cd1,y-cd2),(x-cd1,y-cd2),\n",
    "                     (x+cd2,y+cd1),(x-cd2,y+cd1),(x+cd2,y-cd1),(x-cd2,y-cd1)]\n",
    "        Position = []\n",
    "        for p,q in Horse_Pos:\n",
    "            if self.Check(p,q):\n",
    "                Position.append((p,q))\n",
    "        return self.Draw(x,y,Position)"
   ]
  },
  {
   "cell_type": "code",
   "execution_count": 7,
   "metadata": {},
   "outputs": [
    {
     "data": {
      "text/plain": [
       "array([[1., 0., 0., 0., 0., 0., 1., 0.],\n",
       "       [0., 1., 0., 0., 0., 1., 0., 0.],\n",
       "       [0., 0., 1., 0., 1., 0., 0., 0.],\n",
       "       [0., 0., 0., 8., 0., 0., 0., 0.],\n",
       "       [0., 0., 1., 0., 1., 0., 0., 0.],\n",
       "       [0., 1., 0., 0., 0., 1., 0., 0.],\n",
       "       [1., 0., 0., 0., 0., 0., 1., 0.],\n",
       "       [0., 0., 0., 0., 0., 0., 0., 1.]])"
      ]
     },
     "execution_count": 7,
     "metadata": {},
     "output_type": "execute_result"
    }
   ],
   "source": [
    "Bishop.Positions(Piece,3,3)"
   ]
  }
 ],
 "metadata": {
  "kernelspec": {
   "display_name": "Python 3",
   "language": "python",
   "name": "python3"
  },
  "language_info": {
   "codemirror_mode": {
    "name": "ipython",
    "version": 3
   },
   "file_extension": ".py",
   "mimetype": "text/x-python",
   "name": "python",
   "nbconvert_exporter": "python",
   "pygments_lexer": "ipython3",
   "version": "3.7.6"
  }
 },
 "nbformat": 4,
 "nbformat_minor": 4
}
